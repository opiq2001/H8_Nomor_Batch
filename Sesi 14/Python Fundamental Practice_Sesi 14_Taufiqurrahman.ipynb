{
 "cells": [
  {
   "cell_type": "markdown",
   "id": "fa5cec08",
   "metadata": {},
   "source": [
    "# Data Structure"
   ]
  },
  {
   "cell_type": "code",
   "execution_count": 3,
   "id": "670dec9f",
   "metadata": {},
   "outputs": [
    {
     "name": "stdout",
     "output_type": "stream",
     "text": [
      "['t', 'o', 'p']\n",
      "['t', 'o', 'p', 'i', 'q']\n",
      "['t', 'p', 'i', 'q']\n"
     ]
    }
   ],
   "source": [
    "list1=[]\n",
    "list1 = ['t','o','p']\n",
    "print(list1)\n",
    "list1.append('i')\n",
    "list1.append('q')\n",
    "print(list1)\n",
    "list1.pop(1)\n",
    "print(list1)"
   ]
  },
  {
   "cell_type": "code",
   "execution_count": 13,
   "id": "f74e08b9",
   "metadata": {},
   "outputs": [
    {
     "name": "stdout",
     "output_type": "stream",
     "text": [
      "{'satu': 'a', 'dua': 'b', 'tiga': 'c'}\n",
      "a\n",
      "{'satu': 'a', 'dua': 'b', 'tiga': 'c', 'empat': 'd'}\n",
      "{'dua': 'b', 'tiga': 'c', 'empat': 'd'}\n"
     ]
    }
   ],
   "source": [
    "dict1 = {}\n",
    "dict1 = {'satu':'a', 'dua':'b', 'tiga':'c'}\n",
    "print(dict1)\n",
    "print(dict1['satu'])\n",
    "dict1['empat']='d'\n",
    "print(dict1)\n",
    "del dict1['satu']\n",
    "print(dict1)"
   ]
  },
  {
   "cell_type": "markdown",
   "id": "0034191d",
   "metadata": {},
   "source": [
    "# if"
   ]
  },
  {
   "cell_type": "code",
   "execution_count": 15,
   "id": "bfae83d0",
   "metadata": {},
   "outputs": [
    {
     "name": "stdout",
     "output_type": "stream",
     "text": [
      "Enter the first number: 2.2\n",
      "Enter the second number: 3.3\n"
     ]
    }
   ],
   "source": [
    "num1 = float(input('Enter the first number: '))\n",
    "num2 = float(input('Enter the second number: '))"
   ]
  },
  {
   "cell_type": "code",
   "execution_count": 16,
   "id": "74a8a2b5",
   "metadata": {},
   "outputs": [
    {
     "name": "stdout",
     "output_type": "stream",
     "text": [
      "3.3 is greater.\n"
     ]
    }
   ],
   "source": [
    "if num1 > num2:\n",
    "    print(f\"{num1} is greater.\")\n",
    "elif num2 > num1:\n",
    "    print(f\"{num2} is greater.\")\n",
    "else:\n",
    "    print(\"Both numbers are equal\")"
   ]
  },
  {
   "cell_type": "code",
   "execution_count": 18,
   "id": "79913e54",
   "metadata": {},
   "outputs": [
    {
     "name": "stdout",
     "output_type": "stream",
     "text": [
      "Enter a yeaaar: 2024\n",
      "2024 is a leap year broo.\n"
     ]
    }
   ],
   "source": [
    "year = int(input('Enter a yeaaar: '))\n",
    "\n",
    "if (year % 4==0 and year % 100!=0) or (year%400==0):\n",
    "    print(f\"{year} is a leap year broo.\")\n",
    "else:\n",
    "    print(f\"{year} is not a leap year.\")"
   ]
  },
  {
   "cell_type": "markdown",
   "id": "c6ce9564",
   "metadata": {},
   "source": [
    "# while"
   ]
  },
  {
   "cell_type": "code",
   "execution_count": 20,
   "id": "21b4b9aa",
   "metadata": {},
   "outputs": [
    {
     "name": "stdout",
     "output_type": "stream",
     "text": [
      "Sum of even numbers from 1 to 100: 2550\n"
     ]
    }
   ],
   "source": [
    "total = 0\n",
    "num = 2\n",
    "\n",
    "while num<=100:\n",
    "    total+= num\n",
    "    num+=2\n",
    "print('Sum of even numbers from 1 to 100:', total)"
   ]
  },
  {
   "cell_type": "code",
   "execution_count": 21,
   "id": "b78ea988",
   "metadata": {},
   "outputs": [
    {
     "name": "stdout",
     "output_type": "stream",
     "text": [
      "Enter the password: apaan\n",
      "Incorrect password. Try again!!!\n",
      "Enter the password: kagak tau gw\n",
      "Incorrect password. Try again!!!\n",
      "Enter the password: secret\n",
      "Access granted!!!\n"
     ]
    }
   ],
   "source": [
    "password = \"secret\"\n",
    "while True:\n",
    "    user_input = input('Enter the password: ')\n",
    "    if user_input == password:\n",
    "        print('Access granted!!!')\n",
    "        break\n",
    "    else:\n",
    "        print('Incorrect password. Try again!!!')"
   ]
  },
  {
   "cell_type": "markdown",
   "id": "f10d4a37",
   "metadata": {},
   "source": [
    "# For"
   ]
  },
  {
   "cell_type": "code",
   "execution_count": 22,
   "id": "de226d26",
   "metadata": {},
   "outputs": [
    {
     "name": "stdout",
     "output_type": "stream",
     "text": [
      "Enter a numberrr: 3\n",
      "3 x 1 = 3\n",
      "3 x 2 = 6\n",
      "3 x 3 = 9\n",
      "3 x 4 = 12\n",
      "3 x 5 = 15\n",
      "3 x 6 = 18\n",
      "3 x 7 = 21\n",
      "3 x 8 = 24\n",
      "3 x 9 = 27\n",
      "3 x 10 = 30\n"
     ]
    }
   ],
   "source": [
    "#program yang membuat tabel multiplikasi untuk sebuah angka dari 1*num hingga 10*num\n",
    "num = int(input(\"Enter a numberrr: \"))\n",
    "\n",
    "for i in range(1, 11):\n",
    "    print(f\"{num} x {i} = {num*i}\")"
   ]
  },
  {
   "cell_type": "code",
   "execution_count": 24,
   "id": "a7035687",
   "metadata": {},
   "outputs": [
    {
     "name": "stdout",
     "output_type": "stream",
     "text": [
      "Enter a string: bithealth\n",
      "Number of vowels in the string: 3\n"
     ]
    }
   ],
   "source": [
    "#program yang menghitung jumlah huruf hidup dalam sebuah string\n",
    "text = input(\"Enter a string: \")\n",
    "text = text.lower()\n",
    "vowel_count=0\n",
    "\n",
    "for char in text:\n",
    "    if char in 'aiueo':\n",
    "        vowel_count +=1\n",
    "        \n",
    "print(f\"Number of vowels in the string: {vowel_count}\")"
   ]
  },
  {
   "cell_type": "markdown",
   "id": "3d96ba9b",
   "metadata": {},
   "source": [
    "# function"
   ]
  },
  {
   "cell_type": "code",
   "execution_count": 25,
   "id": "67da8280",
   "metadata": {},
   "outputs": [
    {
     "name": "stdout",
     "output_type": "stream",
     "text": [
      "Halo, John King!!\n"
     ]
    }
   ],
   "source": [
    "#fungsi bernama `sapa` yang menerima satu argumen berupa nama dan mencetak pesan sapaan.\n",
    "def sapa(nama):\n",
    "    print(f\"Halo, {nama}!!\")\n",
    "    \n",
    "sapa(\"John King\")"
   ]
  },
  {
   "cell_type": "code",
   "execution_count": 26,
   "id": "7df78e38",
   "metadata": {},
   "outputs": [
    {
     "name": "stdout",
     "output_type": "stream",
     "text": [
      "25\n"
     ]
    }
   ],
   "source": [
    "#fungsi `kuadrat` yang menerima satu angka sebagai argumen dan mengembalikan kuadrat dari angka tersebut.\n",
    "def kuadrat(angka):\n",
    "    return angka ** 2\n",
    "\n",
    "hasil = kuadrat(5)\n",
    "print(hasil)"
   ]
  },
  {
   "cell_type": "code",
   "execution_count": 27,
   "id": "ce06e98a",
   "metadata": {},
   "outputs": [
    {
     "name": "stdout",
     "output_type": "stream",
     "text": [
      "12\n"
     ]
    }
   ],
   "source": [
    "#fungsi `hitung_luas_persegi` yang menerima dua argumen: panjang dan lebar. Fungsi ini mengembalikan luas persegi tersebut\n",
    "def hitung_luas_persegi(panjang=1.0, lebar=1.0):\n",
    "    return panjang*lebar\n",
    "\n",
    "luas = hitung_luas_persegi(4,3)\n",
    "print(luas)"
   ]
  },
  {
   "cell_type": "code",
   "execution_count": 33,
   "id": "0896b060",
   "metadata": {},
   "outputs": [
    {
     "name": "stdout",
     "output_type": "stream",
     "text": [
      "Jhon Doe\n",
      "Topiq \n"
     ]
    }
   ],
   "source": [
    "#fungsi `bentuk_nama` yang menerima dua argumen: nama_depan dan nama_belakang. Fungsi ini mengembalikan nama lengkap\n",
    "def bentuk_nama(nama_depan, nama_belakang=\"\"):\n",
    "    return f\"{nama_depan} {nama_belakang}\"\n",
    "\n",
    "nama = bentuk_nama(\"Jhon\", \"Doe\")\n",
    "nama1 = bentuk_nama(\"Topiq\")\n",
    "print(nama)\n",
    "print(nama1)"
   ]
  },
  {
   "cell_type": "code",
   "execution_count": 34,
   "id": "ef2adbe1",
   "metadata": {},
   "outputs": [
    {
     "name": "stdout",
     "output_type": "stream",
     "text": [
      "37.111111111111114\n"
     ]
    }
   ],
   "source": [
    "#fungsi `konversi_fahrenheit_ke_celcius` yang menerima suhu dalam Fahrenheit dan mengembalikan suhu tersebut dalam Celcius\n",
    "def konversi_fahreinheit_ke_celcius(fahreinheit):\n",
    "    celcius = (fahreinheit - 32) * 5/9\n",
    "    return celcius\n",
    "suhu_celcius = konversi_fahreinheit_ke_celcius(98.8)\n",
    "print(suhu_celcius)"
   ]
  },
  {
   "cell_type": "code",
   "execution_count": 35,
   "id": "f15f6ca3",
   "metadata": {},
   "outputs": [
    {
     "name": "stdout",
     "output_type": "stream",
     "text": [
      "8\n"
     ]
    }
   ],
   "source": [
    "#fungsi `hitung_pangkat` yang menerima dua argumen: angka dan pangkat.\n",
    "def hitung_pangkat(angka, pangkat):\n",
    "    hasil = 1\n",
    "    for _ in range(pangkat):\n",
    "        hasil *= angka\n",
    "    return hasil\n",
    "pangkat = hitung_pangkat(2,3)\n",
    "print(pangkat)"
   ]
  },
  {
   "cell_type": "markdown",
   "id": "f53bf73d",
   "metadata": {},
   "source": [
    "# module "
   ]
  },
  {
   "cell_type": "code",
   "execution_count": 36,
   "id": "98c336e4",
   "metadata": {},
   "outputs": [
    {
     "name": "stdout",
     "output_type": "stream",
     "text": [
      "Writing my_module.py\n"
     ]
    }
   ],
   "source": [
    "%%writefile my_module.py\n",
    "\n",
    "def greet(name):\n",
    "    return f\"Hello, {name}!!\"\n",
    "\n",
    "pi = 3.14159265359\n",
    "\n",
    "def square(x):\n",
    "    return x**2"
   ]
  },
  {
   "cell_type": "code",
   "execution_count": 37,
   "id": "eb378bdb",
   "metadata": {},
   "outputs": [
    {
     "name": "stdout",
     "output_type": "stream",
     "text": [
      "Writing main.py\n"
     ]
    }
   ],
   "source": [
    "%%writefile main.py\n",
    "\n",
    "import my_module\n",
    "\n",
    "message = my_module.greet(\"Alicee\")\n",
    "print(message)\n",
    "\n",
    "radius = 9\n",
    "area = my_module.pi * my_module.square(radius)\n",
    "print(f\"Luas Lingkaran dengan radius {radius} adalah {area:.2f}\")"
   ]
  },
  {
   "cell_type": "markdown",
   "id": "257978c0",
   "metadata": {},
   "source": [
    "# script"
   ]
  },
  {
   "cell_type": "markdown",
   "id": "8030ec95",
   "metadata": {},
   "source": [
    "Kalkulator sederhana"
   ]
  },
  {
   "cell_type": "code",
   "execution_count": 39,
   "id": "31cfb33b",
   "metadata": {},
   "outputs": [
    {
     "name": "stdout",
     "output_type": "stream",
     "text": [
      "Pilih operasi\n",
      "1. Tambah\n",
      "2. Kurang\n",
      "3. Kali\n",
      "4. Bagi\n",
      "5  Keluar\n",
      "Masukkan nomor operasi (1/2/3/4/5): 1\n",
      "Masukkan angka pertama: 1039109\n",
      "Masukkan angka kedua: 990283972\n",
      "Hasil: 991323081.0\n",
      "Pilih operasi\n",
      "1. Tambah\n",
      "2. Kurang\n",
      "3. Kali\n",
      "4. Bagi\n",
      "5  Keluar\n",
      "Masukkan nomor operasi (1/2/3/4/5): 2\n",
      "Masukkan angka pertama: 43049\n",
      "Masukkan angka kedua: 839283\n",
      "Hasil: -796234.0\n",
      "Pilih operasi\n",
      "1. Tambah\n",
      "2. Kurang\n",
      "3. Kali\n",
      "4. Bagi\n",
      "5  Keluar\n",
      "Masukkan nomor operasi (1/2/3/4/5): 3\n",
      "Masukkan angka pertama: 773\n",
      "Masukkan angka kedua: 029\n",
      "Hasil: 22417.0\n",
      "Pilih operasi\n",
      "1. Tambah\n",
      "2. Kurang\n",
      "3. Kali\n",
      "4. Bagi\n",
      "5  Keluar\n",
      "Masukkan nomor operasi (1/2/3/4/5): 4\n",
      "Masukkan angka pertama: 98\n",
      "Masukkan angka kedua: 98\n",
      "Hasil: 1.0\n",
      "Pilih operasi\n",
      "1. Tambah\n",
      "2. Kurang\n",
      "3. Kali\n",
      "4. Bagi\n",
      "5  Keluar\n",
      "Masukkan nomor operasi (1/2/3/4/5): 7\n",
      "Masukkan angka pertama: 322\n",
      "Masukkan angka kedua: 32\n",
      "Pilihan tidak valid, coba lagii, liat diatas\n",
      "Pilih operasi\n",
      "1. Tambah\n",
      "2. Kurang\n",
      "3. Kali\n",
      "4. Bagi\n",
      "5  Keluar\n",
      "Masukkan nomor operasi (1/2/3/4/5): 5\n",
      "Keluar dari kalkulator, sampai jumpa lagiiii\n"
     ]
    }
   ],
   "source": [
    "def tambah(x,y):\n",
    "    return x+y\n",
    "def kurang(x,y):\n",
    "    return x-y\n",
    "def kali(x,y):\n",
    "    return x*y\n",
    "def bagi(x,y):\n",
    "    if y==0:\n",
    "        return \"nggak bisalah dibagi 0\"\n",
    "    return x/y\n",
    "\n",
    "while True:\n",
    "    print(\"Pilih operasi\")\n",
    "    print(\"1. Tambah\")\n",
    "    print(\"2. Kurang\")\n",
    "    print(\"3. Kali\")\n",
    "    print(\"4. Bagi\")\n",
    "    print(\"5  Keluar\")\n",
    "    \n",
    "    pilihan = input(\"Masukkan nomor operasi (1/2/3/4/5): \")\n",
    "    \n",
    "    if pilihan == '5':\n",
    "        print (\"Keluar dari kalkulator, sampai jumpa lagiiii\")\n",
    "        break\n",
    "        \n",
    "    angka1 = float(input(\"Masukkan angka pertama: \"))\n",
    "    angka2 = float(input(\"Masukkan angka kedua: \"))\n",
    "    \n",
    "    if pilihan == '1':\n",
    "        print(\"Hasil:\", tambah(angka1,angka2))\n",
    "    elif pilihan == '2':\n",
    "        print(\"Hasil:\", kurang(angka1,angka2))\n",
    "    elif pilihan == '3':\n",
    "        print(\"Hasil:\", kali(angka1,angka2))\n",
    "    elif pilihan == '4':\n",
    "        print(\"Hasil:\", bagi(angka1,angka2))\n",
    "    else:\n",
    "        print(\"Pilihan tidak valid, coba lagii, liat diatas\")"
   ]
  },
  {
   "cell_type": "markdown",
   "id": "ab7a4274",
   "metadata": {},
   "source": [
    "Daftar Belanja"
   ]
  },
  {
   "cell_type": "code",
   "execution_count": 42,
   "id": "dec8fc65",
   "metadata": {},
   "outputs": [
    {
     "name": "stdout",
     "output_type": "stream",
     "text": [
      "What do you want to do?\n",
      "1. Add item to the shopping list\n",
      "2. Delete item to the shopping list\n",
      "3. Show item from the shopping list\n",
      "4. Exit\n",
      "Pilih tindakan (1/2/3/4): 1\n",
      "Masukkan item yang ingin diadd: nyam nyam\n",
      "nyam nyam telah ditambahkan ke daftar belanja\n",
      "What do you want to do?\n",
      "1. Add item to the shopping list\n",
      "2. Delete item to the shopping list\n",
      "3. Show item from the shopping list\n",
      "4. Exit\n",
      "Pilih tindakan (1/2/3/4): 1\n",
      "Masukkan item yang ingin diadd: milo\n",
      "milo telah ditambahkan ke daftar belanja\n",
      "What do you want to do?\n",
      "1. Add item to the shopping list\n",
      "2. Delete item to the shopping list\n",
      "3. Show item from the shopping list\n",
      "4. Exit\n",
      "Pilih tindakan (1/2/3/4): 1\n",
      "Masukkan item yang ingin diadd: chocopie\n",
      "chocopie telah ditambahkan ke daftar belanja\n",
      "What do you want to do?\n",
      "1. Add item to the shopping list\n",
      "2. Delete item to the shopping list\n",
      "3. Show item from the shopping list\n",
      "4. Exit\n",
      "Pilih tindakan (1/2/3/4): 3\n",
      "Daftar Belanja:\n",
      "- nyam nyam\n",
      "- milo\n",
      "- chocopie\n",
      "What do you want to do?\n",
      "1. Add item to the shopping list\n",
      "2. Delete item to the shopping list\n",
      "3. Show item from the shopping list\n",
      "4. Exit\n",
      "Pilih tindakan (1/2/3/4): 2\n",
      "Masukkan item yang ingin didelete: milo\n",
      "milo telah dihapus dari daftar belanja.\n",
      "What do you want to do?\n",
      "1. Add item to the shopping list\n",
      "2. Delete item to the shopping list\n",
      "3. Show item from the shopping list\n",
      "4. Exit\n",
      "Pilih tindakan (1/2/3/4): 3\n",
      "Daftar Belanja:\n",
      "- nyam nyam\n",
      "- chocopie\n",
      "What do you want to do?\n",
      "1. Add item to the shopping list\n",
      "2. Delete item to the shopping list\n",
      "3. Show item from the shopping list\n",
      "4. Exit\n",
      "Pilih tindakan (1/2/3/4): 4\n",
      "Keluar dari daftar belanja\n"
     ]
    }
   ],
   "source": [
    "shopping_list = []\n",
    "\n",
    "def tambah_item(item):\n",
    "    shopping_list.append(item)\n",
    "    print(f\"{item} telah ditambahkan ke daftar belanja\")\n",
    "    \n",
    "def hapus_item(item):\n",
    "    if item in shopping_list:\n",
    "        shopping_list.remove(item)\n",
    "        print(f\"{item} telah dihapus dari daftar belanja.\")\n",
    "    else:\n",
    "        print(f\"{item} tidak ditemukan dalam daftar belanja.\")\n",
    "        \n",
    "def tampilkan_daftar():\n",
    "    print(\"Daftar Belanja:\")\n",
    "    for item in shopping_list:\n",
    "        print(\"-\", item)\n",
    "        \n",
    "while True:\n",
    "    print(\"What do you want to do?\")\n",
    "    print(\"1. Add item to the shopping list\")\n",
    "    print(\"2. Delete item to the shopping list\")\n",
    "    print(\"3. Show item from the shopping list\")\n",
    "    print(\"4. Exit\")\n",
    "    \n",
    "    pilihan = input(\"Pilih tindakan (1/2/3/4): \")\n",
    "    \n",
    "    if pilihan == '1':\n",
    "        item = input(\"Masukkan item yang ingin diadd: \")\n",
    "        tambah_item(item)\n",
    "    elif pilihan == '2':\n",
    "        item = input(\"Masukkan item yang ingin didelete: \")\n",
    "        hapus_item(item)\n",
    "    elif pilihan == '3':\n",
    "        tampilkan_daftar()\n",
    "    elif pilihan == '4':\n",
    "        print(\"Keluar dari daftar belanja\")\n",
    "        break\n",
    "    else:\n",
    "        print(\"Pilihan tidak valid\")\n",
    "    "
   ]
  },
  {
   "cell_type": "markdown",
   "id": "7bc4b514",
   "metadata": {},
   "source": [
    "Kalkulator BMI"
   ]
  },
  {
   "cell_type": "code",
   "execution_count": 43,
   "id": "abcc1d4b",
   "metadata": {},
   "outputs": [
    {
     "name": "stdout",
     "output_type": "stream",
     "text": [
      "Masukkan berat badan(kg): 55\n",
      "Masukkan tinggi badan(cm): 170\n",
      "BMI Anda adalah 19.03 (Normal).\n"
     ]
    }
   ],
   "source": [
    "def hitung_bmi(berat, tinggi):\n",
    "    tinggi_m = tinggi/100\n",
    "    bmi = berat/ (tinggi_m **2)\n",
    "    return bmi\n",
    "\n",
    "def kategori_bmi(bmi):\n",
    "    if bmi<18.5:\n",
    "        return \"Kurus\"\n",
    "    elif 18.5 <=bmi<24.9:\n",
    "        return \"Normal\"\n",
    "    elif 25 <=bmi<29.9:\n",
    "        return \"Gemuk\"\n",
    "    else:\n",
    "        return \"Obesitas\"\n",
    "    \n",
    "berat = float(input(\"Masukkan berat badan(kg): \"))\n",
    "tinggi = float(input(\"Masukkan tinggi badan(cm): \"))\n",
    "\n",
    "bmi = hitung_bmi(berat, tinggi)\n",
    "kategori = kategori_bmi(bmi)\n",
    "print(f\"BMI Anda adalah {bmi:.2f} ({kategori}).\")"
   ]
  },
  {
   "cell_type": "markdown",
   "id": "73e4f54e",
   "metadata": {},
   "source": [
    "Pencarian Kata dalam Teks"
   ]
  },
  {
   "cell_type": "code",
   "execution_count": 3,
   "id": "903ef333",
   "metadata": {},
   "outputs": [
    {
     "name": "stdout",
     "output_type": "stream",
     "text": [
      "Masukkan kata yang ingin anda cari:bithealth\n",
      "'bithealth' tidak ditemukan dalam teks\n"
     ]
    }
   ],
   "source": [
    "teks = \"\"\"Ini adalah contoh teks.\n",
    "Teks ini digunakan untuk latihan pencarian kata.\"\"\"\n",
    "\n",
    "kata_cari = input(\"Masukkan kata yang ingin anda cari:\")\n",
    "\n",
    "if kata_cari in teks:\n",
    "    print(f\"'{kata_cari}' ditemukan dalam teks\")\n",
    "else:\n",
    "    print(f\"'{kata_cari}' tidak ditemukan dalam teks\")"
   ]
  },
  {
   "cell_type": "markdown",
   "id": "50b76288",
   "metadata": {},
   "source": [
    "Konversi Mata Uang"
   ]
  },
  {
   "cell_type": "code",
   "execution_count": 5,
   "id": "31505792",
   "metadata": {},
   "outputs": [
    {
     "name": "stdout",
     "output_type": "stream",
     "text": [
      "Masukkan jumlah dalam USD: 10\n",
      "10.0 USD setara dengan 145000.0 IDR.\n"
     ]
    }
   ],
   "source": [
    "def konversi_mata_uang(jumlah, nilai_tukar):\n",
    "    return jumlah * nilai_tukar\n",
    "\n",
    "nilai_tukar_usd_ke_idr = 14500\n",
    "\n",
    "jumlah_usd = float(input(\"Masukkan jumlah dalam USD: \"))\n",
    "jumlah_idr = konversi_mata_uang(jumlah_usd, nilai_tukar_usd_ke_idr)\n",
    "\n",
    "print(f\"{jumlah_usd} USD setara dengan {jumlah_idr} IDR.\")"
   ]
  },
  {
   "cell_type": "markdown",
   "id": "30eeab59",
   "metadata": {},
   "source": [
    "# Python Read Write"
   ]
  },
  {
   "cell_type": "markdown",
   "id": "6656cf75",
   "metadata": {},
   "source": [
    "# read & write from excel"
   ]
  },
  {
   "cell_type": "code",
   "execution_count": null,
   "id": "343a726e",
   "metadata": {},
   "outputs": [],
   "source": [
    "import pandas as pd\n",
    "\n",
    "def baca_data_excel(nama_file):\n",
    "    df = pd.read_excel(nama_file)\n",
    "    return df\n",
    "\n",
    "def tulis_data_excel(nama_file, df):\n",
    "    df.to_excel(nama_file, index=False)\n",
    "    \n",
    "def main():\n",
    "    nama_file = 'produk.xlsx'\n",
    "    produk = baca_data_excel(nama_file)\n",
    "    \n",
    "    print(\"Data Produk: \")\n",
    "    print(produk)\n",
    "    \n",
    "    tambah_produk = input(\"Tambah produk baru? (y/n): \")\n",
    "    if tambah_produk.lower() == 'y':\n",
    "        nama_produk = input(\"Nama produk: \")\n",
    "        harga_produk = input(\"Harga produk (IDR): \")\n",
    "        stok_produk = input(\"Stok produk: \")\n",
    "        \n",
    "        produk_baru = {'Nama Produk': nama_produk, 'Harga': harga_produk, 'Stok': stok_produk}\n",
    "        produk = produk.append(produk_baru, ignore_index=True)\n",
    "        \n",
    "        tulis_data_excel(nama_file, produk)\n",
    "        print(\"Produk berhasil ditambahkan dan disimpan\")\n",
    "        \n",
    "    if __name__ = \"__main__\":\n",
    "        main()"
   ]
  },
  {
   "cell_type": "markdown",
   "id": "c7d28735",
   "metadata": {},
   "source": [
    "# read & write from sql"
   ]
  },
  {
   "cell_type": "code",
   "execution_count": null,
   "id": "959878f0",
   "metadata": {},
   "outputs": [],
   "source": [
    "import sqlite3\n",
    "\n",
    "def baca_data_sqlite(database_file):\n",
    "    connection = sqlite3.connect(database_file)\n",
    "    cursor = connection.cursor()\n",
    "    cursor.execute(\"SELECT * FROM produk\")\n",
    "    data = cursor.fetchall()\n",
    "    connection.close()\n",
    "    return data\n",
    "\n",
    "def tambah_data_sqlite(database_file, nama_produk, harga, stok):\n",
    "    connection =  sqlite3.connect(database_file)\n",
    "    cursor = connection.cursor()\n",
    "    cursor.execute(\"INSERT INTO produk (nama_produk, harga, stok) VALUES (?,?,?)\", (nama_produk, harga, stok))\n",
    "    connection.commit()\n",
    "    connection.close()\n",
    "\n",
    "def main():\n",
    "    database_file = 'produk.db'\n",
    "    produk = baca_data_sqlite(database_file)\n",
    "    \n",
    "    print(\"Data Produk:\")\n",
    "    for item in produk:\n",
    "        print(f\"{item[1]}: {item[2]} IDR, Stok: {item[3]}\")\n",
    "        \n",
    "    tambah_produk = input(\"Tambah produk baru? (y/n): \")\n",
    "    if tambah_produk.lower() == 'y':\n",
    "        nama_produk = input(\"Nama produk: \")\n",
    "        harga_produk = input(\"Harga produk (IDR): \")\n",
    "        stok_produk = input(\"Stok produk: \")\n",
    "        \n",
    "        tambah_data_sqlite(database_file, nama_produk, harga_produk, stok_produk)\n",
    "        print(\"Produk berhasil ditambahakan dan disimpan\")\n",
    "        \n",
    "if __name__ = \"__main__\":\n",
    "        main() "
   ]
  },
  {
   "cell_type": "markdown",
   "id": "f836757d",
   "metadata": {},
   "source": [
    "# read & write from csv"
   ]
  },
  {
   "cell_type": "code",
   "execution_count": null,
   "id": "15d128f9",
   "metadata": {},
   "outputs": [],
   "source": [
    "import csv\n",
    "\n",
    "def baca_data_csv(nama_file):\n",
    "    data=[]\n",
    "    with open(nama_file, mode='r') as file:\n",
    "        csv_reader = csv.DictReader(file)\n",
    "        for row in csv_reader:\n",
    "            data.append(row)\n",
    "    return data\n",
    "\n",
    "def tulis_data_csv(nama_file, data):\n",
    "    with open(nama_file, mode='w', newline='') as file:\n",
    "        fieldnames = data[0].keys()\n",
    "        writer = csv.DictWriter(file, fieldnames=fieldnames)\n",
    "        writer.writerheader()\n",
    "        writer.writerows(data)\n",
    "        \n",
    "def main():\n",
    "    nama_file = 'produk.csv'\n",
    "    produk = baca_data_csv(nama_file)\n",
    "    \n",
    "    print(\"Data Produk:\")\n",
    "    for item in produk:\n",
    "        print(f\"{item['Nama Produk']}: {item['Harga']} IDR, Stok: {item['Stok']}\")\n",
    "    \n",
    "    tambah_produk = input(\"Tambah produk baru? (y/n): \")\n",
    "    if tambah_produk.lower() == 'y':\n",
    "        nama_produk = input(\"Nama produk: \")\n",
    "        harga_produk = input(\"Harga produk (IDR): \")\n",
    "        stok_produk = input(\"Stok produk: \")\n",
    "        \n",
    "        produk_baru = {'Nama Produk': nama_produk, 'Harga': harga_produk, 'Stok': stok_produk}\n",
    "        produk.append(produk_baru)\n",
    "        \n",
    "        tulis_data_csv(nama_file, produk)\n",
    "        print(\"Produk berhasil ditambahkan dan disimpan.\")\n",
    "        \n",
    "if __name__ == \"__main__\":\n",
    "    main()"
   ]
  }
 ],
 "metadata": {
  "kernelspec": {
   "display_name": "Python 3 (ipykernel)",
   "language": "python",
   "name": "python3"
  },
  "language_info": {
   "codemirror_mode": {
    "name": "ipython",
    "version": 3
   },
   "file_extension": ".py",
   "mimetype": "text/x-python",
   "name": "python",
   "nbconvert_exporter": "python",
   "pygments_lexer": "ipython3",
   "version": "3.11.5"
  }
 },
 "nbformat": 4,
 "nbformat_minor": 5
}
